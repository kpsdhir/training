{
    "cells": [
        {
            "cell_type": "markdown",
            "metadata": {
                "collapsed": true
            },
            "source": "# My Jupyter Notebook on IBM Watson Studio"
        },
        {
            "cell_type": "markdown",
            "metadata": {},
            "source": "**Sudhir KP**\n\nBusiness Analyst / Data Scientist"
        },
        {
            "cell_type": "markdown",
            "metadata": {},
            "source": "*Data science is the most happening domain with advent of enormous data from innumerous data sources / devices.*\n\n*I'm interested in data science because it equips us with tools to analyse this data and helps us in formulating effective solutions.* "
        },
        {
            "cell_type": "markdown",
            "metadata": {},
            "source": "### This code evaluates and prints if each number in the list is odd / even."
        },
        {
            "cell_type": "code",
            "execution_count": 30,
            "metadata": {},
            "outputs": [
                {
                    "name": "stdout",
                    "output_type": "stream",
                    "text": "1 is Odd number\n12 is Even number\n15 is Odd number\n"
                }
            ],
            "source": "list = [1,12,15];\nfor x in list:\n    if(x%2) == 0:\n      print (str(x) + ' is Even number');\n    else:\n      print (str(x) + ' is Odd number');"
        },
        {
            "cell_type": "markdown",
            "metadata": {},
            "source": "***\nSummary:\n\n1. Python components used in the code:\n  - Array of numbers.\n  - for loop\n  - mod (%) operator\n  - if & else condition\n  - print statement.\n  - str function\n2. Output of the code:<br>\n  Evaluate list of numbers to find & print if they are Odd / Even.\n\nx | Odd/Even | Status\n---|:---:|---\n1|Odd|Pass\n12|Even|Pass\n15|Odd|Pass\n\n~~This code doesn't read input from console~~\n\nThis project is for [Coursera](https://www.coursera.org/ \"Coursera Homepage\")\n\n> **Note**: <br>This section contains: <br>\n>  1. Horizontal rule,<br>\n>  2. Ordered List,<br>\n>  3. Bulleted List,<br>\n>  4. Table,<br>\n>  5. Strikethrough,<br>\n>  6. Hyperlink,  \n>  7. _Blocked Quote_\n>\n\n***"
        }
    ],
    "metadata": {
        "kernelspec": {
            "display_name": "Python 3.7",
            "language": "python",
            "name": "python3"
        },
        "language_info": {
            "codemirror_mode": {
                "name": "ipython",
                "version": 3
            },
            "file_extension": ".py",
            "mimetype": "text/x-python",
            "name": "python",
            "nbconvert_exporter": "python",
            "pygments_lexer": "ipython3",
            "version": "3.7.10"
        }
    },
    "nbformat": 4,
    "nbformat_minor": 1
}